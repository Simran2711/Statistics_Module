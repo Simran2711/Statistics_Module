{
 "cells": [
  {
   "cell_type": "markdown",
   "id": "2514d84e",
   "metadata": {},
   "source": [
    "# Importing Libraries"
   ]
  },
  {
   "cell_type": "code",
   "execution_count": 2,
   "id": "9726a269",
   "metadata": {},
   "outputs": [],
   "source": [
    "import pandas as pd\n",
    "import numpy as np\n",
    "import seaborn as sns\n",
    "import matplotlib.pyplot as plt\n",
    "%matplotlib inline\n",
    "\n"
   ]
  },
  {
   "cell_type": "markdown",
   "id": "2397e85a",
   "metadata": {},
   "source": [
    "# Import Dataset"
   ]
  },
  {
   "cell_type": "code",
   "execution_count": 3,
   "id": "c5922986",
   "metadata": {},
   "outputs": [],
   "source": [
    "df=pd.read_csv(\"marketing_data.csv\")"
   ]
  },
  {
   "cell_type": "code",
   "execution_count": 4,
   "id": "c0c29f98",
   "metadata": {},
   "outputs": [
    {
     "data": {
      "text/html": [
       "<div>\n",
       "<style scoped>\n",
       "    .dataframe tbody tr th:only-of-type {\n",
       "        vertical-align: middle;\n",
       "    }\n",
       "\n",
       "    .dataframe tbody tr th {\n",
       "        vertical-align: top;\n",
       "    }\n",
       "\n",
       "    .dataframe thead th {\n",
       "        text-align: right;\n",
       "    }\n",
       "</style>\n",
       "<table border=\"1\" class=\"dataframe\">\n",
       "  <thead>\n",
       "    <tr style=\"text-align: right;\">\n",
       "      <th></th>\n",
       "      <th>ID</th>\n",
       "      <th>Year_Birth</th>\n",
       "      <th>Education</th>\n",
       "      <th>Marital_Status</th>\n",
       "      <th>Income</th>\n",
       "      <th>Kidhome</th>\n",
       "      <th>Teenhome</th>\n",
       "      <th>Dt_Customer</th>\n",
       "      <th>Recency</th>\n",
       "      <th>MntWines</th>\n",
       "      <th>...</th>\n",
       "      <th>NumStorePurchases</th>\n",
       "      <th>NumWebVisitsMonth</th>\n",
       "      <th>AcceptedCmp3</th>\n",
       "      <th>AcceptedCmp4</th>\n",
       "      <th>AcceptedCmp5</th>\n",
       "      <th>AcceptedCmp1</th>\n",
       "      <th>AcceptedCmp2</th>\n",
       "      <th>Response</th>\n",
       "      <th>Complain</th>\n",
       "      <th>Country</th>\n",
       "    </tr>\n",
       "  </thead>\n",
       "  <tbody>\n",
       "    <tr>\n",
       "      <th>0</th>\n",
       "      <td>1826</td>\n",
       "      <td>1970</td>\n",
       "      <td>Graduation</td>\n",
       "      <td>Divorced</td>\n",
       "      <td>$84,835.00</td>\n",
       "      <td>0</td>\n",
       "      <td>0</td>\n",
       "      <td>6/16/14</td>\n",
       "      <td>0</td>\n",
       "      <td>189</td>\n",
       "      <td>...</td>\n",
       "      <td>6</td>\n",
       "      <td>1</td>\n",
       "      <td>0</td>\n",
       "      <td>0</td>\n",
       "      <td>0</td>\n",
       "      <td>0</td>\n",
       "      <td>0</td>\n",
       "      <td>1</td>\n",
       "      <td>0</td>\n",
       "      <td>SP</td>\n",
       "    </tr>\n",
       "    <tr>\n",
       "      <th>1</th>\n",
       "      <td>1</td>\n",
       "      <td>1961</td>\n",
       "      <td>Graduation</td>\n",
       "      <td>Single</td>\n",
       "      <td>$57,091.00</td>\n",
       "      <td>0</td>\n",
       "      <td>0</td>\n",
       "      <td>6/15/14</td>\n",
       "      <td>0</td>\n",
       "      <td>464</td>\n",
       "      <td>...</td>\n",
       "      <td>7</td>\n",
       "      <td>5</td>\n",
       "      <td>0</td>\n",
       "      <td>0</td>\n",
       "      <td>0</td>\n",
       "      <td>0</td>\n",
       "      <td>1</td>\n",
       "      <td>1</td>\n",
       "      <td>0</td>\n",
       "      <td>CA</td>\n",
       "    </tr>\n",
       "    <tr>\n",
       "      <th>2</th>\n",
       "      <td>10476</td>\n",
       "      <td>1958</td>\n",
       "      <td>Graduation</td>\n",
       "      <td>Married</td>\n",
       "      <td>$67,267.00</td>\n",
       "      <td>0</td>\n",
       "      <td>1</td>\n",
       "      <td>5/13/14</td>\n",
       "      <td>0</td>\n",
       "      <td>134</td>\n",
       "      <td>...</td>\n",
       "      <td>5</td>\n",
       "      <td>2</td>\n",
       "      <td>0</td>\n",
       "      <td>0</td>\n",
       "      <td>0</td>\n",
       "      <td>0</td>\n",
       "      <td>0</td>\n",
       "      <td>0</td>\n",
       "      <td>0</td>\n",
       "      <td>US</td>\n",
       "    </tr>\n",
       "    <tr>\n",
       "      <th>3</th>\n",
       "      <td>1386</td>\n",
       "      <td>1967</td>\n",
       "      <td>Graduation</td>\n",
       "      <td>Together</td>\n",
       "      <td>$32,474.00</td>\n",
       "      <td>1</td>\n",
       "      <td>1</td>\n",
       "      <td>5/11/14</td>\n",
       "      <td>0</td>\n",
       "      <td>10</td>\n",
       "      <td>...</td>\n",
       "      <td>2</td>\n",
       "      <td>7</td>\n",
       "      <td>0</td>\n",
       "      <td>0</td>\n",
       "      <td>0</td>\n",
       "      <td>0</td>\n",
       "      <td>0</td>\n",
       "      <td>0</td>\n",
       "      <td>0</td>\n",
       "      <td>AUS</td>\n",
       "    </tr>\n",
       "    <tr>\n",
       "      <th>4</th>\n",
       "      <td>5371</td>\n",
       "      <td>1989</td>\n",
       "      <td>Graduation</td>\n",
       "      <td>Single</td>\n",
       "      <td>$21,474.00</td>\n",
       "      <td>1</td>\n",
       "      <td>0</td>\n",
       "      <td>4/8/14</td>\n",
       "      <td>0</td>\n",
       "      <td>6</td>\n",
       "      <td>...</td>\n",
       "      <td>2</td>\n",
       "      <td>7</td>\n",
       "      <td>1</td>\n",
       "      <td>0</td>\n",
       "      <td>0</td>\n",
       "      <td>0</td>\n",
       "      <td>0</td>\n",
       "      <td>1</td>\n",
       "      <td>0</td>\n",
       "      <td>SP</td>\n",
       "    </tr>\n",
       "  </tbody>\n",
       "</table>\n",
       "<p>5 rows × 28 columns</p>\n",
       "</div>"
      ],
      "text/plain": [
       "      ID  Year_Birth   Education Marital_Status      Income   Kidhome  \\\n",
       "0   1826        1970  Graduation       Divorced  $84,835.00         0   \n",
       "1      1        1961  Graduation         Single  $57,091.00         0   \n",
       "2  10476        1958  Graduation        Married  $67,267.00         0   \n",
       "3   1386        1967  Graduation       Together  $32,474.00         1   \n",
       "4   5371        1989  Graduation         Single  $21,474.00         1   \n",
       "\n",
       "   Teenhome Dt_Customer  Recency  MntWines  ...  NumStorePurchases  \\\n",
       "0         0     6/16/14        0       189  ...                  6   \n",
       "1         0     6/15/14        0       464  ...                  7   \n",
       "2         1     5/13/14        0       134  ...                  5   \n",
       "3         1     5/11/14        0        10  ...                  2   \n",
       "4         0      4/8/14        0         6  ...                  2   \n",
       "\n",
       "   NumWebVisitsMonth  AcceptedCmp3  AcceptedCmp4  AcceptedCmp5  AcceptedCmp1  \\\n",
       "0                  1             0             0             0             0   \n",
       "1                  5             0             0             0             0   \n",
       "2                  2             0             0             0             0   \n",
       "3                  7             0             0             0             0   \n",
       "4                  7             1             0             0             0   \n",
       "\n",
       "   AcceptedCmp2  Response  Complain  Country  \n",
       "0             0         1         0       SP  \n",
       "1             1         1         0       CA  \n",
       "2             0         0         0       US  \n",
       "3             0         0         0      AUS  \n",
       "4             0         1         0       SP  \n",
       "\n",
       "[5 rows x 28 columns]"
      ]
     },
     "execution_count": 4,
     "metadata": {},
     "output_type": "execute_result"
    }
   ],
   "source": [
    "df.head()"
   ]
  },
  {
   "cell_type": "code",
   "execution_count": 5,
   "id": "bf2b0978",
   "metadata": {},
   "outputs": [
    {
     "data": {
      "text/plain": [
       "(2240, 28)"
      ]
     },
     "execution_count": 5,
     "metadata": {},
     "output_type": "execute_result"
    }
   ],
   "source": [
    "df.shape"
   ]
  },
  {
   "cell_type": "code",
   "execution_count": 6,
   "id": "8a979c96",
   "metadata": {},
   "outputs": [
    {
     "name": "stdout",
     "output_type": "stream",
     "text": [
      "<class 'pandas.core.frame.DataFrame'>\n",
      "RangeIndex: 2240 entries, 0 to 2239\n",
      "Data columns (total 28 columns):\n",
      " #   Column               Non-Null Count  Dtype \n",
      "---  ------               --------------  ----- \n",
      " 0   ID                   2240 non-null   int64 \n",
      " 1   Year_Birth           2240 non-null   int64 \n",
      " 2   Education            2240 non-null   object\n",
      " 3   Marital_Status       2240 non-null   object\n",
      " 4    Income              2216 non-null   object\n",
      " 5   Kidhome              2240 non-null   int64 \n",
      " 6   Teenhome             2240 non-null   int64 \n",
      " 7   Dt_Customer          2240 non-null   object\n",
      " 8   Recency              2240 non-null   int64 \n",
      " 9   MntWines             2240 non-null   int64 \n",
      " 10  MntFruits            2240 non-null   int64 \n",
      " 11  MntMeatProducts      2240 non-null   int64 \n",
      " 12  MntFishProducts      2240 non-null   int64 \n",
      " 13  MntSweetProducts     2240 non-null   int64 \n",
      " 14  MntGoldProds         2240 non-null   int64 \n",
      " 15  NumDealsPurchases    2240 non-null   int64 \n",
      " 16  NumWebPurchases      2240 non-null   int64 \n",
      " 17  NumCatalogPurchases  2240 non-null   int64 \n",
      " 18  NumStorePurchases    2240 non-null   int64 \n",
      " 19  NumWebVisitsMonth    2240 non-null   int64 \n",
      " 20  AcceptedCmp3         2240 non-null   int64 \n",
      " 21  AcceptedCmp4         2240 non-null   int64 \n",
      " 22  AcceptedCmp5         2240 non-null   int64 \n",
      " 23  AcceptedCmp1         2240 non-null   int64 \n",
      " 24  AcceptedCmp2         2240 non-null   int64 \n",
      " 25  Response             2240 non-null   int64 \n",
      " 26  Complain             2240 non-null   int64 \n",
      " 27  Country              2240 non-null   object\n",
      "dtypes: int64(23), object(5)\n",
      "memory usage: 490.1+ KB\n"
     ]
    }
   ],
   "source": [
    "df.info()"
   ]
  },
  {
   "cell_type": "code",
   "execution_count": 7,
   "id": "5db1b5e0",
   "metadata": {},
   "outputs": [
    {
     "data": {
      "text/html": [
       "<div>\n",
       "<style scoped>\n",
       "    .dataframe tbody tr th:only-of-type {\n",
       "        vertical-align: middle;\n",
       "    }\n",
       "\n",
       "    .dataframe tbody tr th {\n",
       "        vertical-align: top;\n",
       "    }\n",
       "\n",
       "    .dataframe thead th {\n",
       "        text-align: right;\n",
       "    }\n",
       "</style>\n",
       "<table border=\"1\" class=\"dataframe\">\n",
       "  <thead>\n",
       "    <tr style=\"text-align: right;\">\n",
       "      <th></th>\n",
       "      <th>ID</th>\n",
       "      <th>Year_Birth</th>\n",
       "      <th>Kidhome</th>\n",
       "      <th>Teenhome</th>\n",
       "      <th>Recency</th>\n",
       "      <th>MntWines</th>\n",
       "      <th>MntFruits</th>\n",
       "      <th>MntMeatProducts</th>\n",
       "      <th>MntFishProducts</th>\n",
       "      <th>MntSweetProducts</th>\n",
       "      <th>...</th>\n",
       "      <th>NumCatalogPurchases</th>\n",
       "      <th>NumStorePurchases</th>\n",
       "      <th>NumWebVisitsMonth</th>\n",
       "      <th>AcceptedCmp3</th>\n",
       "      <th>AcceptedCmp4</th>\n",
       "      <th>AcceptedCmp5</th>\n",
       "      <th>AcceptedCmp1</th>\n",
       "      <th>AcceptedCmp2</th>\n",
       "      <th>Response</th>\n",
       "      <th>Complain</th>\n",
       "    </tr>\n",
       "  </thead>\n",
       "  <tbody>\n",
       "    <tr>\n",
       "      <th>count</th>\n",
       "      <td>2240.000000</td>\n",
       "      <td>2240.000000</td>\n",
       "      <td>2240.000000</td>\n",
       "      <td>2240.000000</td>\n",
       "      <td>2240.000000</td>\n",
       "      <td>2240.000000</td>\n",
       "      <td>2240.000000</td>\n",
       "      <td>2240.000000</td>\n",
       "      <td>2240.000000</td>\n",
       "      <td>2240.000000</td>\n",
       "      <td>...</td>\n",
       "      <td>2240.000000</td>\n",
       "      <td>2240.000000</td>\n",
       "      <td>2240.000000</td>\n",
       "      <td>2240.000000</td>\n",
       "      <td>2240.000000</td>\n",
       "      <td>2240.000000</td>\n",
       "      <td>2240.000000</td>\n",
       "      <td>2240.000000</td>\n",
       "      <td>2240.000000</td>\n",
       "      <td>2240.000000</td>\n",
       "    </tr>\n",
       "    <tr>\n",
       "      <th>mean</th>\n",
       "      <td>5592.159821</td>\n",
       "      <td>1968.805804</td>\n",
       "      <td>0.444196</td>\n",
       "      <td>0.506250</td>\n",
       "      <td>49.109375</td>\n",
       "      <td>303.935714</td>\n",
       "      <td>26.302232</td>\n",
       "      <td>166.950000</td>\n",
       "      <td>37.525446</td>\n",
       "      <td>27.062946</td>\n",
       "      <td>...</td>\n",
       "      <td>2.662054</td>\n",
       "      <td>5.790179</td>\n",
       "      <td>5.316518</td>\n",
       "      <td>0.072768</td>\n",
       "      <td>0.074554</td>\n",
       "      <td>0.072768</td>\n",
       "      <td>0.064286</td>\n",
       "      <td>0.013393</td>\n",
       "      <td>0.149107</td>\n",
       "      <td>0.009375</td>\n",
       "    </tr>\n",
       "    <tr>\n",
       "      <th>std</th>\n",
       "      <td>3246.662198</td>\n",
       "      <td>11.984069</td>\n",
       "      <td>0.538398</td>\n",
       "      <td>0.544538</td>\n",
       "      <td>28.962453</td>\n",
       "      <td>336.597393</td>\n",
       "      <td>39.773434</td>\n",
       "      <td>225.715373</td>\n",
       "      <td>54.628979</td>\n",
       "      <td>41.280498</td>\n",
       "      <td>...</td>\n",
       "      <td>2.923101</td>\n",
       "      <td>3.250958</td>\n",
       "      <td>2.426645</td>\n",
       "      <td>0.259813</td>\n",
       "      <td>0.262728</td>\n",
       "      <td>0.259813</td>\n",
       "      <td>0.245316</td>\n",
       "      <td>0.114976</td>\n",
       "      <td>0.356274</td>\n",
       "      <td>0.096391</td>\n",
       "    </tr>\n",
       "    <tr>\n",
       "      <th>min</th>\n",
       "      <td>0.000000</td>\n",
       "      <td>1893.000000</td>\n",
       "      <td>0.000000</td>\n",
       "      <td>0.000000</td>\n",
       "      <td>0.000000</td>\n",
       "      <td>0.000000</td>\n",
       "      <td>0.000000</td>\n",
       "      <td>0.000000</td>\n",
       "      <td>0.000000</td>\n",
       "      <td>0.000000</td>\n",
       "      <td>...</td>\n",
       "      <td>0.000000</td>\n",
       "      <td>0.000000</td>\n",
       "      <td>0.000000</td>\n",
       "      <td>0.000000</td>\n",
       "      <td>0.000000</td>\n",
       "      <td>0.000000</td>\n",
       "      <td>0.000000</td>\n",
       "      <td>0.000000</td>\n",
       "      <td>0.000000</td>\n",
       "      <td>0.000000</td>\n",
       "    </tr>\n",
       "    <tr>\n",
       "      <th>25%</th>\n",
       "      <td>2828.250000</td>\n",
       "      <td>1959.000000</td>\n",
       "      <td>0.000000</td>\n",
       "      <td>0.000000</td>\n",
       "      <td>24.000000</td>\n",
       "      <td>23.750000</td>\n",
       "      <td>1.000000</td>\n",
       "      <td>16.000000</td>\n",
       "      <td>3.000000</td>\n",
       "      <td>1.000000</td>\n",
       "      <td>...</td>\n",
       "      <td>0.000000</td>\n",
       "      <td>3.000000</td>\n",
       "      <td>3.000000</td>\n",
       "      <td>0.000000</td>\n",
       "      <td>0.000000</td>\n",
       "      <td>0.000000</td>\n",
       "      <td>0.000000</td>\n",
       "      <td>0.000000</td>\n",
       "      <td>0.000000</td>\n",
       "      <td>0.000000</td>\n",
       "    </tr>\n",
       "    <tr>\n",
       "      <th>50%</th>\n",
       "      <td>5458.500000</td>\n",
       "      <td>1970.000000</td>\n",
       "      <td>0.000000</td>\n",
       "      <td>0.000000</td>\n",
       "      <td>49.000000</td>\n",
       "      <td>173.500000</td>\n",
       "      <td>8.000000</td>\n",
       "      <td>67.000000</td>\n",
       "      <td>12.000000</td>\n",
       "      <td>8.000000</td>\n",
       "      <td>...</td>\n",
       "      <td>2.000000</td>\n",
       "      <td>5.000000</td>\n",
       "      <td>6.000000</td>\n",
       "      <td>0.000000</td>\n",
       "      <td>0.000000</td>\n",
       "      <td>0.000000</td>\n",
       "      <td>0.000000</td>\n",
       "      <td>0.000000</td>\n",
       "      <td>0.000000</td>\n",
       "      <td>0.000000</td>\n",
       "    </tr>\n",
       "    <tr>\n",
       "      <th>75%</th>\n",
       "      <td>8427.750000</td>\n",
       "      <td>1977.000000</td>\n",
       "      <td>1.000000</td>\n",
       "      <td>1.000000</td>\n",
       "      <td>74.000000</td>\n",
       "      <td>504.250000</td>\n",
       "      <td>33.000000</td>\n",
       "      <td>232.000000</td>\n",
       "      <td>50.000000</td>\n",
       "      <td>33.000000</td>\n",
       "      <td>...</td>\n",
       "      <td>4.000000</td>\n",
       "      <td>8.000000</td>\n",
       "      <td>7.000000</td>\n",
       "      <td>0.000000</td>\n",
       "      <td>0.000000</td>\n",
       "      <td>0.000000</td>\n",
       "      <td>0.000000</td>\n",
       "      <td>0.000000</td>\n",
       "      <td>0.000000</td>\n",
       "      <td>0.000000</td>\n",
       "    </tr>\n",
       "    <tr>\n",
       "      <th>max</th>\n",
       "      <td>11191.000000</td>\n",
       "      <td>1996.000000</td>\n",
       "      <td>2.000000</td>\n",
       "      <td>2.000000</td>\n",
       "      <td>99.000000</td>\n",
       "      <td>1493.000000</td>\n",
       "      <td>199.000000</td>\n",
       "      <td>1725.000000</td>\n",
       "      <td>259.000000</td>\n",
       "      <td>263.000000</td>\n",
       "      <td>...</td>\n",
       "      <td>28.000000</td>\n",
       "      <td>13.000000</td>\n",
       "      <td>20.000000</td>\n",
       "      <td>1.000000</td>\n",
       "      <td>1.000000</td>\n",
       "      <td>1.000000</td>\n",
       "      <td>1.000000</td>\n",
       "      <td>1.000000</td>\n",
       "      <td>1.000000</td>\n",
       "      <td>1.000000</td>\n",
       "    </tr>\n",
       "  </tbody>\n",
       "</table>\n",
       "<p>8 rows × 23 columns</p>\n",
       "</div>"
      ],
      "text/plain": [
       "                 ID   Year_Birth      Kidhome     Teenhome      Recency  \\\n",
       "count   2240.000000  2240.000000  2240.000000  2240.000000  2240.000000   \n",
       "mean    5592.159821  1968.805804     0.444196     0.506250    49.109375   \n",
       "std     3246.662198    11.984069     0.538398     0.544538    28.962453   \n",
       "min        0.000000  1893.000000     0.000000     0.000000     0.000000   \n",
       "25%     2828.250000  1959.000000     0.000000     0.000000    24.000000   \n",
       "50%     5458.500000  1970.000000     0.000000     0.000000    49.000000   \n",
       "75%     8427.750000  1977.000000     1.000000     1.000000    74.000000   \n",
       "max    11191.000000  1996.000000     2.000000     2.000000    99.000000   \n",
       "\n",
       "          MntWines    MntFruits  MntMeatProducts  MntFishProducts  \\\n",
       "count  2240.000000  2240.000000      2240.000000      2240.000000   \n",
       "mean    303.935714    26.302232       166.950000        37.525446   \n",
       "std     336.597393    39.773434       225.715373        54.628979   \n",
       "min       0.000000     0.000000         0.000000         0.000000   \n",
       "25%      23.750000     1.000000        16.000000         3.000000   \n",
       "50%     173.500000     8.000000        67.000000        12.000000   \n",
       "75%     504.250000    33.000000       232.000000        50.000000   \n",
       "max    1493.000000   199.000000      1725.000000       259.000000   \n",
       "\n",
       "       MntSweetProducts  ...  NumCatalogPurchases  NumStorePurchases  \\\n",
       "count       2240.000000  ...          2240.000000        2240.000000   \n",
       "mean          27.062946  ...             2.662054           5.790179   \n",
       "std           41.280498  ...             2.923101           3.250958   \n",
       "min            0.000000  ...             0.000000           0.000000   \n",
       "25%            1.000000  ...             0.000000           3.000000   \n",
       "50%            8.000000  ...             2.000000           5.000000   \n",
       "75%           33.000000  ...             4.000000           8.000000   \n",
       "max          263.000000  ...            28.000000          13.000000   \n",
       "\n",
       "       NumWebVisitsMonth  AcceptedCmp3  AcceptedCmp4  AcceptedCmp5  \\\n",
       "count        2240.000000   2240.000000   2240.000000   2240.000000   \n",
       "mean            5.316518      0.072768      0.074554      0.072768   \n",
       "std             2.426645      0.259813      0.262728      0.259813   \n",
       "min             0.000000      0.000000      0.000000      0.000000   \n",
       "25%             3.000000      0.000000      0.000000      0.000000   \n",
       "50%             6.000000      0.000000      0.000000      0.000000   \n",
       "75%             7.000000      0.000000      0.000000      0.000000   \n",
       "max            20.000000      1.000000      1.000000      1.000000   \n",
       "\n",
       "       AcceptedCmp1  AcceptedCmp2     Response     Complain  \n",
       "count   2240.000000   2240.000000  2240.000000  2240.000000  \n",
       "mean       0.064286      0.013393     0.149107     0.009375  \n",
       "std        0.245316      0.114976     0.356274     0.096391  \n",
       "min        0.000000      0.000000     0.000000     0.000000  \n",
       "25%        0.000000      0.000000     0.000000     0.000000  \n",
       "50%        0.000000      0.000000     0.000000     0.000000  \n",
       "75%        0.000000      0.000000     0.000000     0.000000  \n",
       "max        1.000000      1.000000     1.000000     1.000000  \n",
       "\n",
       "[8 rows x 23 columns]"
      ]
     },
     "execution_count": 7,
     "metadata": {},
     "output_type": "execute_result"
    }
   ],
   "source": [
    "df.describe()"
   ]
  },
  {
   "cell_type": "code",
   "execution_count": 8,
   "id": "fabeee1d",
   "metadata": {},
   "outputs": [
    {
     "data": {
      "text/plain": [
       "ID                     2240\n",
       "Year_Birth             2240\n",
       "Education              2240\n",
       "Marital_Status         2240\n",
       " Income                2216\n",
       "Kidhome                2240\n",
       "Teenhome               2240\n",
       "Dt_Customer            2240\n",
       "Recency                2240\n",
       "MntWines               2240\n",
       "MntFruits              2240\n",
       "MntMeatProducts        2240\n",
       "MntFishProducts        2240\n",
       "MntSweetProducts       2240\n",
       "MntGoldProds           2240\n",
       "NumDealsPurchases      2240\n",
       "NumWebPurchases        2240\n",
       "NumCatalogPurchases    2240\n",
       "NumStorePurchases      2240\n",
       "NumWebVisitsMonth      2240\n",
       "AcceptedCmp3           2240\n",
       "AcceptedCmp4           2240\n",
       "AcceptedCmp5           2240\n",
       "AcceptedCmp1           2240\n",
       "AcceptedCmp2           2240\n",
       "Response               2240\n",
       "Complain               2240\n",
       "Country                2240\n",
       "dtype: int64"
      ]
     },
     "execution_count": 8,
     "metadata": {},
     "output_type": "execute_result"
    }
   ],
   "source": [
    "df.count()"
   ]
  },
  {
   "cell_type": "code",
   "execution_count": 9,
   "id": "44ff4def",
   "metadata": {},
   "outputs": [
    {
     "data": {
      "text/plain": [
       "ID                     2240\n",
       "Year_Birth               59\n",
       "Education                 5\n",
       "Marital_Status            8\n",
       " Income                1974\n",
       "Kidhome                   3\n",
       "Teenhome                  3\n",
       "Dt_Customer             663\n",
       "Recency                 100\n",
       "MntWines                776\n",
       "MntFruits               158\n",
       "MntMeatProducts         558\n",
       "MntFishProducts         182\n",
       "MntSweetProducts        177\n",
       "MntGoldProds            213\n",
       "NumDealsPurchases        15\n",
       "NumWebPurchases          15\n",
       "NumCatalogPurchases      14\n",
       "NumStorePurchases        14\n",
       "NumWebVisitsMonth        16\n",
       "AcceptedCmp3              2\n",
       "AcceptedCmp4              2\n",
       "AcceptedCmp5              2\n",
       "AcceptedCmp1              2\n",
       "AcceptedCmp2              2\n",
       "Response                  2\n",
       "Complain                  2\n",
       "Country                   8\n",
       "dtype: int64"
      ]
     },
     "execution_count": 9,
     "metadata": {},
     "output_type": "execute_result"
    }
   ],
   "source": [
    "df.nunique()"
   ]
  },
  {
   "cell_type": "code",
   "execution_count": 10,
   "id": "d263c2c7",
   "metadata": {},
   "outputs": [
    {
     "data": {
      "text/plain": [
       "ID                      0\n",
       "Year_Birth              0\n",
       "Education               0\n",
       "Marital_Status          0\n",
       " Income                24\n",
       "Kidhome                 0\n",
       "Teenhome                0\n",
       "Dt_Customer             0\n",
       "Recency                 0\n",
       "MntWines                0\n",
       "MntFruits               0\n",
       "MntMeatProducts         0\n",
       "MntFishProducts         0\n",
       "MntSweetProducts        0\n",
       "MntGoldProds            0\n",
       "NumDealsPurchases       0\n",
       "NumWebPurchases         0\n",
       "NumCatalogPurchases     0\n",
       "NumStorePurchases       0\n",
       "NumWebVisitsMonth       0\n",
       "AcceptedCmp3            0\n",
       "AcceptedCmp4            0\n",
       "AcceptedCmp5            0\n",
       "AcceptedCmp1            0\n",
       "AcceptedCmp2            0\n",
       "Response                0\n",
       "Complain                0\n",
       "Country                 0\n",
       "dtype: int64"
      ]
     },
     "execution_count": 10,
     "metadata": {},
     "output_type": "execute_result"
    }
   ],
   "source": [
    "df.isnull().sum()"
   ]
  },
  {
   "cell_type": "code",
   "execution_count": 11,
   "id": "e4feeeaf",
   "metadata": {},
   "outputs": [
    {
     "name": "stdout",
     "output_type": "stream",
     "text": [
      "Duplicate rows: 0 \n"
     ]
    }
   ],
   "source": [
    "df_var=df[df.duplicated()]\n",
    "print(\"Duplicate rows: {} \".format(len(df_var)))"
   ]
  },
  {
   "cell_type": "markdown",
   "id": "abb6a0b3",
   "metadata": {},
   "source": [
    "# Data cleaning"
   ]
  },
  {
   "cell_type": "markdown",
   "id": "ab147fa3",
   "metadata": {},
   "source": [
    "### Issue 1: There is a space in front of the income's column name\n",
    "\n"
   ]
  },
  {
   "cell_type": "code",
   "execution_count": 12,
   "id": "276cb88e",
   "metadata": {},
   "outputs": [
    {
     "name": "stdout",
     "output_type": "stream",
     "text": [
      "Index(['ID', 'Year_Birth', 'Education', 'Marital_Status', 'Income', 'Kidhome',\n",
      "       'Teenhome', 'Dt_Customer', 'Recency', 'MntWines', 'MntFruits',\n",
      "       'MntMeatProducts', 'MntFishProducts', 'MntSweetProducts',\n",
      "       'MntGoldProds', 'NumDealsPurchases', 'NumWebPurchases',\n",
      "       'NumCatalogPurchases', 'NumStorePurchases', 'NumWebVisitsMonth',\n",
      "       'AcceptedCmp3', 'AcceptedCmp4', 'AcceptedCmp5', 'AcceptedCmp1',\n",
      "       'AcceptedCmp2', 'Response', 'Complain', 'Country'],\n",
      "      dtype='object')\n"
     ]
    }
   ],
   "source": [
    "df.columns = df.columns.str.strip()\n",
    "print(df.columns)"
   ]
  },
  {
   "cell_type": "markdown",
   "id": "595a0e3d",
   "metadata": {},
   "source": [
    "### Issue 2: There are dollar signs, spaces, commas, and dots is the values of Income column"
   ]
  },
  {
   "cell_type": "code",
   "execution_count": 13,
   "id": "e4f26606",
   "metadata": {},
   "outputs": [
    {
     "data": {
      "text/plain": [
       "0       84835.00 \n",
       "1       57091.00 \n",
       "2       67267.00 \n",
       "3       32474.00 \n",
       "4       21474.00 \n",
       "          ...    \n",
       "2235    66476.00 \n",
       "2236    31056.00 \n",
       "2237    46310.00 \n",
       "2238    65819.00 \n",
       "2239    94871.00 \n",
       "Name: Income, Length: 2240, dtype: object"
      ]
     },
     "execution_count": 13,
     "metadata": {},
     "output_type": "execute_result"
    }
   ],
   "source": [
    "df['Income'] = df['Income'].replace({'\\$':''}, regex = True)\n",
    "df['Income'] = df['Income'].replace({'\\,':''}, regex = True)\n",
    "df['Income'] = df['Income'].replace({'\\00':''},  regex = True)\n",
    "df.Income"
   ]
  },
  {
   "cell_type": "markdown",
   "id": "8d38ad21",
   "metadata": {},
   "source": [
    "### Issue 3: Income data type is string so convert into float"
   ]
  },
  {
   "cell_type": "code",
   "execution_count": 14,
   "id": "dbb2c040",
   "metadata": {},
   "outputs": [],
   "source": [
    " df['Income']=df['Income'].astype('float64')"
   ]
  },
  {
   "cell_type": "code",
   "execution_count": 15,
   "id": "b33edbd2",
   "metadata": {},
   "outputs": [
    {
     "data": {
      "text/plain": [
       "0       84835.0\n",
       "1       57091.0\n",
       "2       67267.0\n",
       "3       32474.0\n",
       "4       21474.0\n",
       "         ...   \n",
       "2235    66476.0\n",
       "2236    31056.0\n",
       "2237    46310.0\n",
       "2238    65819.0\n",
       "2239    94871.0\n",
       "Name: Income, Length: 2240, dtype: float64"
      ]
     },
     "execution_count": 15,
     "metadata": {},
     "output_type": "execute_result"
    }
   ],
   "source": [
    "df.Income"
   ]
  },
  {
   "cell_type": "code",
   "execution_count": 16,
   "id": "e4ba2e8d",
   "metadata": {},
   "outputs": [
    {
     "name": "stdout",
     "output_type": "stream",
     "text": [
      "<class 'pandas.core.frame.DataFrame'>\n",
      "RangeIndex: 2240 entries, 0 to 2239\n",
      "Data columns (total 28 columns):\n",
      " #   Column               Non-Null Count  Dtype  \n",
      "---  ------               --------------  -----  \n",
      " 0   ID                   2240 non-null   int64  \n",
      " 1   Year_Birth           2240 non-null   int64  \n",
      " 2   Education            2240 non-null   object \n",
      " 3   Marital_Status       2240 non-null   object \n",
      " 4   Income               2216 non-null   float64\n",
      " 5   Kidhome              2240 non-null   int64  \n",
      " 6   Teenhome             2240 non-null   int64  \n",
      " 7   Dt_Customer          2240 non-null   object \n",
      " 8   Recency              2240 non-null   int64  \n",
      " 9   MntWines             2240 non-null   int64  \n",
      " 10  MntFruits            2240 non-null   int64  \n",
      " 11  MntMeatProducts      2240 non-null   int64  \n",
      " 12  MntFishProducts      2240 non-null   int64  \n",
      " 13  MntSweetProducts     2240 non-null   int64  \n",
      " 14  MntGoldProds         2240 non-null   int64  \n",
      " 15  NumDealsPurchases    2240 non-null   int64  \n",
      " 16  NumWebPurchases      2240 non-null   int64  \n",
      " 17  NumCatalogPurchases  2240 non-null   int64  \n",
      " 18  NumStorePurchases    2240 non-null   int64  \n",
      " 19  NumWebVisitsMonth    2240 non-null   int64  \n",
      " 20  AcceptedCmp3         2240 non-null   int64  \n",
      " 21  AcceptedCmp4         2240 non-null   int64  \n",
      " 22  AcceptedCmp5         2240 non-null   int64  \n",
      " 23  AcceptedCmp1         2240 non-null   int64  \n",
      " 24  AcceptedCmp2         2240 non-null   int64  \n",
      " 25  Response             2240 non-null   int64  \n",
      " 26  Complain             2240 non-null   int64  \n",
      " 27  Country              2240 non-null   object \n",
      "dtypes: float64(1), int64(23), object(4)\n",
      "memory usage: 490.1+ KB\n"
     ]
    }
   ],
   "source": [
    "df.info() #Test"
   ]
  },
  {
   "cell_type": "markdown",
   "id": "c830972b",
   "metadata": {},
   "source": [
    "### Issue 4: Dt_Customer data type is string so convert into Datetime "
   ]
  },
  {
   "cell_type": "code",
   "execution_count": 17,
   "id": "741f2be0",
   "metadata": {},
   "outputs": [
    {
     "data": {
      "text/plain": [
       "0      2014-06-16\n",
       "1      2014-06-15\n",
       "2      2014-05-13\n",
       "3      2014-05-11\n",
       "4      2014-04-08\n",
       "          ...    \n",
       "2235   2013-03-07\n",
       "2236   2013-01-22\n",
       "2237   2012-12-03\n",
       "2238   2012-11-29\n",
       "2239   2012-09-01\n",
       "Name: Dt_Customer, Length: 2240, dtype: datetime64[ns]"
      ]
     },
     "execution_count": 17,
     "metadata": {},
     "output_type": "execute_result"
    }
   ],
   "source": [
    "df['Dt_Customer']=df['Dt_Customer'].astype('datetime64')\n",
    "df['Dt_Customer']"
   ]
  },
  {
   "cell_type": "code",
   "execution_count": 18,
   "id": "11936439",
   "metadata": {},
   "outputs": [
    {
     "name": "stdout",
     "output_type": "stream",
     "text": [
      "<class 'pandas.core.frame.DataFrame'>\n",
      "RangeIndex: 2240 entries, 0 to 2239\n",
      "Data columns (total 28 columns):\n",
      " #   Column               Non-Null Count  Dtype         \n",
      "---  ------               --------------  -----         \n",
      " 0   ID                   2240 non-null   int64         \n",
      " 1   Year_Birth           2240 non-null   int64         \n",
      " 2   Education            2240 non-null   object        \n",
      " 3   Marital_Status       2240 non-null   object        \n",
      " 4   Income               2216 non-null   float64       \n",
      " 5   Kidhome              2240 non-null   int64         \n",
      " 6   Teenhome             2240 non-null   int64         \n",
      " 7   Dt_Customer          2240 non-null   datetime64[ns]\n",
      " 8   Recency              2240 non-null   int64         \n",
      " 9   MntWines             2240 non-null   int64         \n",
      " 10  MntFruits            2240 non-null   int64         \n",
      " 11  MntMeatProducts      2240 non-null   int64         \n",
      " 12  MntFishProducts      2240 non-null   int64         \n",
      " 13  MntSweetProducts     2240 non-null   int64         \n",
      " 14  MntGoldProds         2240 non-null   int64         \n",
      " 15  NumDealsPurchases    2240 non-null   int64         \n",
      " 16  NumWebPurchases      2240 non-null   int64         \n",
      " 17  NumCatalogPurchases  2240 non-null   int64         \n",
      " 18  NumStorePurchases    2240 non-null   int64         \n",
      " 19  NumWebVisitsMonth    2240 non-null   int64         \n",
      " 20  AcceptedCmp3         2240 non-null   int64         \n",
      " 21  AcceptedCmp4         2240 non-null   int64         \n",
      " 22  AcceptedCmp5         2240 non-null   int64         \n",
      " 23  AcceptedCmp1         2240 non-null   int64         \n",
      " 24  AcceptedCmp2         2240 non-null   int64         \n",
      " 25  Response             2240 non-null   int64         \n",
      " 26  Complain             2240 non-null   int64         \n",
      " 27  Country              2240 non-null   object        \n",
      "dtypes: datetime64[ns](1), float64(1), int64(23), object(3)\n",
      "memory usage: 490.1+ KB\n"
     ]
    }
   ],
   "source": [
    "df.info() #Test"
   ]
  },
  {
   "cell_type": "markdown",
   "id": "99b3cf33",
   "metadata": {},
   "source": [
    "# Exploratory Data Analysis(EDA)\n",
    "1.Are there any null values or outliers? How will you wrangle/handle them?\n"
   ]
  },
  {
   "cell_type": "markdown",
   "id": "07c8fd38",
   "metadata": {},
   "source": [
    "# Data Visualization\n",
    "\n",
    "\n",
    "1. Which marketing campaign is most successful?\n",
    "2. Which products are performing best?\n",
    "3. Which channels are underperforming?"
   ]
  },
  {
   "cell_type": "markdown",
   "id": "fadb8cab",
   "metadata": {},
   "source": [
    "## Replacing Null Values with median"
   ]
  },
  {
   "cell_type": "code",
   "execution_count": 19,
   "id": "3cbfb7bf",
   "metadata": {},
   "outputs": [],
   "source": [
    "df['Income'].fillna(df['Income'].median(skipna=True),inplace=True)\n"
   ]
  },
  {
   "cell_type": "markdown",
   "id": "86ca1a18",
   "metadata": {},
   "source": [
    "# Bar Plot for Marital Status"
   ]
  },
  {
   "cell_type": "code",
   "execution_count": 20,
   "id": "684e5e3b",
   "metadata": {
    "scrolled": true
   },
   "outputs": [
    {
     "data": {
      "text/plain": [
       "<AxesSubplot:>"
      ]
     },
     "execution_count": 20,
     "metadata": {},
     "output_type": "execute_result"
    },
    {
     "data": {
      "image/png": "[encoded data removed]",
      "text/plain": [
       "<Figure size 432x288 with 1 Axes>"
      ]
     },
     "metadata": {
      "needs_background": "light"
     },
     "output_type": "display_data"
    }
   ],
   "source": [
    "df['Marital_Status'].value_counts().plot(kind='bar')\n"
   ]
  },
  {
   "cell_type": "markdown",
   "id": "8cfdf9d3",
   "metadata": {},
   "source": [
    "# Count plot for Marital Status"
   ]
  },
  {
   "cell_type": "code",
   "execution_count": 21,
   "id": "adc6dce9",
   "metadata": {},
   "outputs": [
    {
     "data": {
      "image/png": "[encoded data removed]",
      "text/plain": [
       "<Figure size 432x288 with 1 Axes>"
      ]
     },
     "metadata": {
      "needs_background": "light"
     },
     "output_type": "display_data"
    }
   ],
   "source": [
    "sns.countplot(x=\"Marital_Status\", data=df)\n",
    "plt.show()\n"
   ]
  },
  {
   "cell_type": "markdown",
   "id": "c4bfc133",
   "metadata": {},
   "source": [
    "## Histogram for Income"
   ]
  },
  {
   "cell_type": "code",
   "execution_count": 26,
   "id": "6d94c34e",
   "metadata": {},
   "outputs": [
    {
     "data": {
      "image/png": "[encoded data removed]",
      "text/plain": [
       "<Figure size 1080x720 with 1 Axes>"
      ]
     },
     "metadata": {
      "needs_background": "light"
     },
     "output_type": "display_data"
    }
   ],
   "source": [
    "plt.hist(df[\"Income\"], bins=20)\n",
    "plt.show()\n"
   ]
  },
  {
   "cell_type": "markdown",
   "id": "4840fb2e",
   "metadata": {},
   "source": [
    "## Group By query is used for checking Income of People's Marital Status "
   ]
  },
  {
   "cell_type": "code",
   "execution_count": 27,
   "id": "63a69c47",
   "metadata": {},
   "outputs": [
    {
     "data": {
      "text/html": [
       "<div>\n",
       "<style scoped>\n",
       "    .dataframe tbody tr th:only-of-type {\n",
       "        vertical-align: middle;\n",
       "    }\n",
       "\n",
       "    .dataframe tbody tr th {\n",
       "        vertical-align: top;\n",
       "    }\n",
       "\n",
       "    .dataframe thead th {\n",
       "        text-align: right;\n",
       "    }\n",
       "</style>\n",
       "<table border=\"1\" class=\"dataframe\">\n",
       "  <thead>\n",
       "    <tr style=\"text-align: right;\">\n",
       "      <th></th>\n",
       "      <th>Marital_Status</th>\n",
       "      <th>Income</th>\n",
       "    </tr>\n",
       "  </thead>\n",
       "  <tbody>\n",
       "    <tr>\n",
       "      <th>0</th>\n",
       "      <td>Absurd</td>\n",
       "      <td>144731.0</td>\n",
       "    </tr>\n",
       "    <tr>\n",
       "      <th>1</th>\n",
       "      <td>Alone</td>\n",
       "      <td>131367.0</td>\n",
       "    </tr>\n",
       "    <tr>\n",
       "      <th>2</th>\n",
       "      <td>Divorced</td>\n",
       "      <td>12257541.0</td>\n",
       "    </tr>\n",
       "    <tr>\n",
       "      <th>3</th>\n",
       "      <td>Married</td>\n",
       "      <td>44687977.5</td>\n",
       "    </tr>\n",
       "    <tr>\n",
       "      <th>4</th>\n",
       "      <td>Single</td>\n",
       "      <td>24481243.5</td>\n",
       "    </tr>\n",
       "    <tr>\n",
       "      <th>5</th>\n",
       "      <td>Together</td>\n",
       "      <td>30869361.5</td>\n",
       "    </tr>\n",
       "    <tr>\n",
       "      <th>6</th>\n",
       "      <td>Widow</td>\n",
       "      <td>4343979.5</td>\n",
       "    </tr>\n",
       "    <tr>\n",
       "      <th>7</th>\n",
       "      <td>YOLO</td>\n",
       "      <td>96864.0</td>\n",
       "    </tr>\n",
       "  </tbody>\n",
       "</table>\n",
       "</div>"
      ],
      "text/plain": [
       "  Marital_Status      Income\n",
       "0         Absurd    144731.0\n",
       "1          Alone    131367.0\n",
       "2       Divorced  12257541.0\n",
       "3        Married  44687977.5\n",
       "4         Single  24481243.5\n",
       "5       Together  30869361.5\n",
       "6          Widow   4343979.5\n",
       "7           YOLO     96864.0"
      ]
     },
     "execution_count": 27,
     "metadata": {},
     "output_type": "execute_result"
    }
   ],
   "source": [
    "df_agg1 = df.groupby([\"Marital_Status\"],as_index = False)[\"Income\"].sum()\n",
    "df_agg1"
   ]
  },
  {
   "cell_type": "markdown",
   "id": "caded32b",
   "metadata": {},
   "source": [
    "## Pie chart for  calculating % of Income of Marital Status People's"
   ]
  },
  {
   "cell_type": "code",
   "execution_count": 28,
   "id": "ac7bda45",
   "metadata": {},
   "outputs": [
    {
     "data": {
      "image/png": "[encoded data removed]",
      "text/plain": [
       "<Figure size 1080x720 with 1 Axes>"
      ]
     },
     "metadata": {},
     "output_type": "display_data"
    }
   ],
   "source": [
    "colors = sns.color_palette('bright')\n",
    "\n",
    "# create pie chart using matplotlib\n",
    "plt.pie(df_agg1[\"Income\"], labels=df_agg1['Marital_Status'], colors=colors,\n",
    "        autopct='%.0f%%', shadow=True, rotatelabels='true')\n",
    "plt.show()\n"
   ]
  },
  {
   "cell_type": "code",
   "execution_count": 29,
   "id": "465d1eec",
   "metadata": {},
   "outputs": [
    {
     "data": {
      "text/plain": [
       "Index(['ID', 'Year_Birth', 'Education', 'Marital_Status', 'Income', 'Kidhome',\n",
       "       'Teenhome', 'Dt_Customer', 'Recency', 'MntWines', 'MntFruits',\n",
       "       'MntMeatProducts', 'MntFishProducts', 'MntSweetProducts',\n",
       "       'MntGoldProds', 'NumDealsPurchases', 'NumWebPurchases',\n",
       "       'NumCatalogPurchases', 'NumStorePurchases', 'NumWebVisitsMonth',\n",
       "       'AcceptedCmp3', 'AcceptedCmp4', 'AcceptedCmp5', 'AcceptedCmp1',\n",
       "       'AcceptedCmp2', 'Response', 'Complain', 'Country'],\n",
       "      dtype='object')"
      ]
     },
     "execution_count": 29,
     "metadata": {},
     "output_type": "execute_result"
    }
   ],
   "source": [
    "df.columns"
   ]
  },
  {
   "cell_type": "markdown",
   "id": "8fa0156f",
   "metadata": {},
   "source": [
    "## Combining Products Column\n"
   ]
  },
  {
   "cell_type": "code",
   "execution_count": 30,
   "id": "9ada775f",
   "metadata": {},
   "outputs": [],
   "source": [
    "df['products'] = df.loc[:,['MntWines','MntFruits','MntMeatProducts','MntFishProducts','MntSweetProducts','MntGoldProds']].sum(axis=1)"
   ]
  },
  {
   "cell_type": "code",
   "execution_count": 31,
   "id": "e1b59582",
   "metadata": {},
   "outputs": [
    {
     "data": {
      "text/plain": [
       "0       1190\n",
       "1        577\n",
       "2        251\n",
       "3         11\n",
       "4         91\n",
       "        ... \n",
       "2235     689\n",
       "2236      55\n",
       "2237     309\n",
       "2238    1383\n",
       "2239    1078\n",
       "Name: products, Length: 2240, dtype: int64"
      ]
     },
     "execution_count": 31,
     "metadata": {},
     "output_type": "execute_result"
    }
   ],
   "source": [
    "df['products']"
   ]
  },
  {
   "cell_type": "markdown",
   "id": "ea729173",
   "metadata": {},
   "source": [
    "## Combining Purchased column"
   ]
  },
  {
   "cell_type": "code",
   "execution_count": 32,
   "id": "02a40e55",
   "metadata": {},
   "outputs": [
    {
     "data": {
      "text/plain": [
       "0       15\n",
       "1       18\n",
       "2       11\n",
       "3        4\n",
       "4        8\n",
       "        ..\n",
       "2235    20\n",
       "2236     5\n",
       "2237    14\n",
       "2238    20\n",
       "2239    18\n",
       "Name: purchased, Length: 2240, dtype: int64"
      ]
     },
     "execution_count": 32,
     "metadata": {},
     "output_type": "execute_result"
    }
   ],
   "source": [
    "df['purchased'] = df.loc[:,['NumDealsPurchases','NumWebPurchases','NumCatalogPurchases','NumStorePurchases']].sum(axis=1)\n",
    "df['purchased']"
   ]
  },
  {
   "cell_type": "markdown",
   "id": "f59eb97b",
   "metadata": {},
   "source": [
    "## Reshaping after combining columns"
   ]
  },
  {
   "cell_type": "code",
   "execution_count": 33,
   "id": "8a29864a",
   "metadata": {},
   "outputs": [],
   "source": [
    "data=df[['Year_Birth','Income','Education','Marital_Status','Kidhome',\n",
    "       'Teenhome','AcceptedCmp3','AcceptedCmp4','AcceptedCmp5','AcceptedCmp1','AcceptedCmp2',\n",
    "       'Response','Country','products','purchased'\n",
    "       ]]"
   ]
  },
  {
   "cell_type": "code",
   "execution_count": 34,
   "id": "637a69cb",
   "metadata": {},
   "outputs": [
    {
     "data": {
      "text/plain": [
       "(2240, 15)"
      ]
     },
     "execution_count": 34,
     "metadata": {},
     "output_type": "execute_result"
    }
   ],
   "source": [
    "data.shape"
   ]
  },
  {
   "cell_type": "code",
   "execution_count": 35,
   "id": "14ca2c89",
   "metadata": {},
   "outputs": [
    {
     "data": {
      "text/html": [
       "<div>\n",
       "<style scoped>\n",
       "    .dataframe tbody tr th:only-of-type {\n",
       "        vertical-align: middle;\n",
       "    }\n",
       "\n",
       "    .dataframe tbody tr th {\n",
       "        vertical-align: top;\n",
       "    }\n",
       "\n",
       "    .dataframe thead th {\n",
       "        text-align: right;\n",
       "    }\n",
       "</style>\n",
       "<table border=\"1\" class=\"dataframe\">\n",
       "  <thead>\n",
       "    <tr style=\"text-align: right;\">\n",
       "      <th></th>\n",
       "      <th>Year_Birth</th>\n",
       "      <th>Income</th>\n",
       "      <th>Education</th>\n",
       "      <th>Marital_Status</th>\n",
       "      <th>Kidhome</th>\n",
       "      <th>Teenhome</th>\n",
       "      <th>AcceptedCmp3</th>\n",
       "      <th>AcceptedCmp4</th>\n",
       "      <th>AcceptedCmp5</th>\n",
       "      <th>AcceptedCmp1</th>\n",
       "      <th>AcceptedCmp2</th>\n",
       "      <th>Response</th>\n",
       "      <th>Country</th>\n",
       "      <th>products</th>\n",
       "      <th>purchased</th>\n",
       "    </tr>\n",
       "  </thead>\n",
       "  <tbody>\n",
       "    <tr>\n",
       "      <th>0</th>\n",
       "      <td>1970</td>\n",
       "      <td>84835.0</td>\n",
       "      <td>Graduation</td>\n",
       "      <td>Divorced</td>\n",
       "      <td>0</td>\n",
       "      <td>0</td>\n",
       "      <td>0</td>\n",
       "      <td>0</td>\n",
       "      <td>0</td>\n",
       "      <td>0</td>\n",
       "      <td>0</td>\n",
       "      <td>1</td>\n",
       "      <td>SP</td>\n",
       "      <td>1190</td>\n",
       "      <td>15</td>\n",
       "    </tr>\n",
       "    <tr>\n",
       "      <th>1</th>\n",
       "      <td>1961</td>\n",
       "      <td>57091.0</td>\n",
       "      <td>Graduation</td>\n",
       "      <td>Single</td>\n",
       "      <td>0</td>\n",
       "      <td>0</td>\n",
       "      <td>0</td>\n",
       "      <td>0</td>\n",
       "      <td>0</td>\n",
       "      <td>0</td>\n",
       "      <td>1</td>\n",
       "      <td>1</td>\n",
       "      <td>CA</td>\n",
       "      <td>577</td>\n",
       "      <td>18</td>\n",
       "    </tr>\n",
       "    <tr>\n",
       "      <th>2</th>\n",
       "      <td>1958</td>\n",
       "      <td>67267.0</td>\n",
       "      <td>Graduation</td>\n",
       "      <td>Married</td>\n",
       "      <td>0</td>\n",
       "      <td>1</td>\n",
       "      <td>0</td>\n",
       "      <td>0</td>\n",
       "      <td>0</td>\n",
       "      <td>0</td>\n",
       "      <td>0</td>\n",
       "      <td>0</td>\n",
       "      <td>US</td>\n",
       "      <td>251</td>\n",
       "      <td>11</td>\n",
       "    </tr>\n",
       "    <tr>\n",
       "      <th>3</th>\n",
       "      <td>1967</td>\n",
       "      <td>32474.0</td>\n",
       "      <td>Graduation</td>\n",
       "      <td>Together</td>\n",
       "      <td>1</td>\n",
       "      <td>1</td>\n",
       "      <td>0</td>\n",
       "      <td>0</td>\n",
       "      <td>0</td>\n",
       "      <td>0</td>\n",
       "      <td>0</td>\n",
       "      <td>0</td>\n",
       "      <td>AUS</td>\n",
       "      <td>11</td>\n",
       "      <td>4</td>\n",
       "    </tr>\n",
       "    <tr>\n",
       "      <th>4</th>\n",
       "      <td>1989</td>\n",
       "      <td>21474.0</td>\n",
       "      <td>Graduation</td>\n",
       "      <td>Single</td>\n",
       "      <td>1</td>\n",
       "      <td>0</td>\n",
       "      <td>1</td>\n",
       "      <td>0</td>\n",
       "      <td>0</td>\n",
       "      <td>0</td>\n",
       "      <td>0</td>\n",
       "      <td>1</td>\n",
       "      <td>SP</td>\n",
       "      <td>91</td>\n",
       "      <td>8</td>\n",
       "    </tr>\n",
       "  </tbody>\n",
       "</table>\n",
       "</div>"
      ],
      "text/plain": [
       "   Year_Birth   Income   Education Marital_Status  Kidhome  Teenhome  \\\n",
       "0        1970  84835.0  Graduation       Divorced        0         0   \n",
       "1        1961  57091.0  Graduation         Single        0         0   \n",
       "2        1958  67267.0  Graduation        Married        0         1   \n",
       "3        1967  32474.0  Graduation       Together        1         1   \n",
       "4        1989  21474.0  Graduation         Single        1         0   \n",
       "\n",
       "   AcceptedCmp3  AcceptedCmp4  AcceptedCmp5  AcceptedCmp1  AcceptedCmp2  \\\n",
       "0             0             0             0             0             0   \n",
       "1             0             0             0             0             1   \n",
       "2             0             0             0             0             0   \n",
       "3             0             0             0             0             0   \n",
       "4             1             0             0             0             0   \n",
       "\n",
       "   Response Country  products  purchased  \n",
       "0         1      SP      1190         15  \n",
       "1         1      CA       577         18  \n",
       "2         0      US       251         11  \n",
       "3         0     AUS        11          4  \n",
       "4         1      SP        91          8  "
      ]
     },
     "execution_count": 35,
     "metadata": {},
     "output_type": "execute_result"
    }
   ],
   "source": [
    "data.head()"
   ]
  },
  {
   "cell_type": "markdown",
   "id": "ebb143fd",
   "metadata": {},
   "source": [
    "## Value count of Birth year"
   ]
  },
  {
   "cell_type": "code",
   "execution_count": 36,
   "id": "62b0cd11",
   "metadata": {},
   "outputs": [
    {
     "data": {
      "text/plain": [
       "1976    89\n",
       "1971    87\n",
       "1975    83\n",
       "1972    79\n",
       "1970    77\n",
       "1978    77\n",
       "1965    74\n",
       "1973    74\n",
       "1969    71\n",
       "1974    69\n",
       "1956    55\n",
       "1979    53\n",
       "1958    53\n",
       "1952    52\n",
       "1977    52\n",
       "1959    51\n",
       "1968    51\n",
       "1966    50\n",
       "1954    50\n",
       "1955    49\n",
       "1960    49\n",
       "1982    45\n",
       "1963    45\n",
       "1967    44\n",
       "1962    44\n",
       "1957    43\n",
       "1951    43\n",
       "1964    42\n",
       "1983    42\n",
       "1986    42\n",
       "1980    39\n",
       "1981    39\n",
       "1984    38\n",
       "1961    36\n",
       "1953    35\n",
       "1985    32\n",
       "1989    30\n",
       "1949    30\n",
       "1950    29\n",
       "1988    29\n",
       "1987    27\n",
       "1948    21\n",
       "1990    18\n",
       "1947    16\n",
       "1946    16\n",
       "1991    15\n",
       "1992    13\n",
       "1945     8\n",
       "1944     7\n",
       "1943     7\n",
       "1993     5\n",
       "1995     5\n",
       "1994     3\n",
       "1996     2\n",
       "1893     1\n",
       "1899     1\n",
       "1941     1\n",
       "1940     1\n",
       "1900     1\n",
       "Name: Year_Birth, dtype: int64"
      ]
     },
     "execution_count": 36,
     "metadata": {},
     "output_type": "execute_result"
    }
   ],
   "source": [
    "data['Year_Birth'].value_counts()"
   ]
  },
  {
   "cell_type": "markdown",
   "id": "0c48e3b6",
   "metadata": {},
   "source": [
    "## Iteration"
   ]
  },
  {
   "cell_type": "code",
   "execution_count": 37,
   "id": "177daf3d",
   "metadata": {},
   "outputs": [
    {
     "name": "stderr",
     "output_type": "stream",
     "text": [
      "C:\\Users\\Simran\\anaconda3\\lib\\site-packages\\pandas\\core\\frame.py:4906: SettingWithCopyWarning: \n",
      "A value is trying to be set on a copy of a slice from a DataFrame\n",
      "\n",
      "See the caveats in the documentation: https://pandas.pydata.org/pandas-docs/stable/user_guide/indexing.html#returning-a-view-versus-a-copy\n",
      "  return super().drop(\n"
     ]
    }
   ],
   "source": [
    "for i, row in data.iterrows():\n",
    "    if row['Year_Birth'] < 1940:\n",
    "        data.drop(i, inplace=True)"
   ]
  },
  {
   "cell_type": "markdown",
   "id": "e770ca45",
   "metadata": {},
   "source": [
    "## Located Outliers"
   ]
  },
  {
   "cell_type": "code",
   "execution_count": 38,
   "id": "bea0da1d",
   "metadata": {},
   "outputs": [
    {
     "data": {
      "text/plain": [
       "{'whiskers': [<matplotlib.lines.Line2D at 0x19cb6260d00>,\n",
       "  <matplotlib.lines.Line2D at 0x19cb6260fd0>],\n",
       " 'caps': [<matplotlib.lines.Line2D at 0x19cb62723a0>,\n",
       "  <matplotlib.lines.Line2D at 0x19cb6272730>],\n",
       " 'boxes': [<matplotlib.lines.Line2D at 0x19cb62608b0>],\n",
       " 'medians': [<matplotlib.lines.Line2D at 0x19cb6272ac0>],\n",
       " 'fliers': [<matplotlib.lines.Line2D at 0x19cb6272e50>],\n",
       " 'means': []}"
      ]
     },
     "execution_count": 38,
     "metadata": {},
     "output_type": "execute_result"
    },
    {
     "data": {
      "image/png": "[encoded data removed]",
      "text/plain": [
       "<Figure size 1080x720 with 1 Axes>"
      ]
     },
     "metadata": {
      "needs_background": "light"
     },
     "output_type": "display_data"
    }
   ],
   "source": [
    "plt.boxplot(data['Year_Birth'])"
   ]
  },
  {
   "cell_type": "markdown",
   "id": "b2fe855e",
   "metadata": {},
   "source": [
    "## Overall Locating of Outliers"
   ]
  },
  {
   "cell_type": "code",
   "execution_count": 40,
   "id": "c8ecdc76",
   "metadata": {},
   "outputs": [
    {
     "data": {
      "image/png": "[encoded data removed]",
      "text/plain": [
       "<Figure size 720x720 with 1 Axes>"
      ]
     },
     "metadata": {
      "needs_background": "light"
     },
     "output_type": "display_data"
    }
   ],
   "source": [
    "def plots():\n",
    "    plt.rcParams[\"figure.figsize\"] = (10,10)\n",
    "    ax = data[['Year_Birth', 'Kidhome',\n",
    "            'Teenhome', 'AcceptedCmp3', 'AcceptedCmp4', 'AcceptedCmp5',\n",
    "            'AcceptedCmp1', 'AcceptedCmp2', 'Response', 'products','purchased'\n",
    "       ]].plot(kind='box', title='boxplot')\n",
    "    plt.show()\n",
    "plots()"
   ]
  },
  {
   "cell_type": "code",
   "execution_count": 41,
   "id": "d6b3be62",
   "metadata": {},
   "outputs": [],
   "source": [
    "out =data[['Year_Birth',  'products','purchased']]"
   ]
  },
  {
   "cell_type": "markdown",
   "id": "0863081f",
   "metadata": {},
   "source": [
    "## Removal of Outliers"
   ]
  },
  {
   "cell_type": "code",
   "execution_count": 42,
   "id": "9fa5c9f3",
   "metadata": {},
   "outputs": [
    {
     "name": "stderr",
     "output_type": "stream",
     "text": [
      "C:\\Users\\Simran\\AppData\\Local\\Temp/ipykernel_21192/162345687.py:9: SettingWithCopyWarning: \n",
      "A value is trying to be set on a copy of a slice from a DataFrame.\n",
      "Try using .loc[row_indexer,col_indexer] = value instead\n",
      "\n",
      "See the caveats in the documentation: https://pandas.pydata.org/pandas-docs/stable/user_guide/indexing.html#returning-a-view-versus-a-copy\n",
      "  data[col]=remove_outliers(data[col])\n"
     ]
    }
   ],
   "source": [
    " def remove_outliers(column):\n",
    "    Q1=column.quantile(.25)\n",
    "    Q3=column.quantile(.75)\n",
    "    IQR=Q3-Q1\n",
    "    column=column[((Q1- 1.5* IQR <= column)& ((Q3+IQR*1.5) >= column))]\n",
    "    return column\n",
    "\n",
    "for col in out:\n",
    "    data[col]=remove_outliers(data[col])\n",
    "    \n",
    "    "
   ]
  },
  {
   "cell_type": "markdown",
   "id": "df8e116d",
   "metadata": {},
   "source": [
    "## Reshaping"
   ]
  },
  {
   "cell_type": "code",
   "execution_count": 43,
   "id": "1e53138a",
   "metadata": {},
   "outputs": [
    {
     "data": {
      "text/plain": [
       "(2237, 15)"
      ]
     },
     "execution_count": 43,
     "metadata": {},
     "output_type": "execute_result"
    }
   ],
   "source": [
    "data.shape"
   ]
  },
  {
   "cell_type": "code",
   "execution_count": 44,
   "id": "065566a7",
   "metadata": {},
   "outputs": [
    {
     "data": {
      "text/plain": [
       "Index(['Year_Birth', 'Income', 'Education', 'Marital_Status', 'Kidhome',\n",
       "       'Teenhome', 'AcceptedCmp3', 'AcceptedCmp4', 'AcceptedCmp5',\n",
       "       'AcceptedCmp1', 'AcceptedCmp2', 'Response', 'Country', 'products',\n",
       "       'purchased'],\n",
       "      dtype='object')"
      ]
     },
     "execution_count": 44,
     "metadata": {},
     "output_type": "execute_result"
    }
   ],
   "source": [
    "data.columns"
   ]
  },
  {
   "cell_type": "markdown",
   "id": "ddecb025",
   "metadata": {},
   "source": [
    "## Bar Plot : Country against Products and Purchased"
   ]
  },
  {
   "cell_type": "code",
   "execution_count": 45,
   "id": "f94e64de",
   "metadata": {},
   "outputs": [
    {
     "name": "stderr",
     "output_type": "stream",
     "text": [
      "C:\\Users\\Simran\\AppData\\Local\\Temp/ipykernel_21192/1153832271.py:1: FutureWarning: Indexing with multiple keys (implicitly converted to a tuple of keys) will be deprecated, use a list instead.\n",
      "  regionwise_sales = data.groupby([\"Country\"], as_index = False)[\"products\", \"purchased\"].sum()\n"
     ]
    },
    {
     "data": {
      "image/png": "[encoded data removed]",
      "text/plain": [
       "<Figure size 720x720 with 1 Axes>"
      ]
     },
     "metadata": {
      "needs_background": "light"
     },
     "output_type": "display_data"
    }
   ],
   "source": [
    "regionwise_sales = data.groupby([\"Country\"], as_index = False)[\"products\", \"purchased\"].sum()\n",
    "plt.bar(regionwise_sales[\"Country\"], regionwise_sales[\"purchased\"])\n",
    "plt.title(\"Country against Products and Purchased\")\n",
    "plt.xlabel(\"Country\")\n",
    "plt.ylabel(\"Products and Purchase\")\n",
    "plt.show()"
   ]
  },
  {
   "cell_type": "markdown",
   "id": "79c4fa3f",
   "metadata": {},
   "source": [
    "## Bar Plot : Year Birth against Products and Purchased"
   ]
  },
  {
   "cell_type": "code",
   "execution_count": 46,
   "id": "81f4780b",
   "metadata": {},
   "outputs": [
    {
     "name": "stderr",
     "output_type": "stream",
     "text": [
      "C:\\Users\\Simran\\AppData\\Local\\Temp/ipykernel_21192/2655141501.py:1: FutureWarning: Indexing with multiple keys (implicitly converted to a tuple of keys) will be deprecated, use a list instead.\n",
      "  regionwise_sales = data.groupby([\"Year_Birth\"], as_index = False)[\"products\", \"purchased\"].sum()\n"
     ]
    },
    {
     "data": {
      "image/png": "[encoded data removed]",
      "text/plain": [
       "<Figure size 720x720 with 1 Axes>"
      ]
     },
     "metadata": {
      "needs_background": "light"
     },
     "output_type": "display_data"
    }
   ],
   "source": [
    "regionwise_sales = data.groupby([\"Year_Birth\"], as_index = False)[\"products\", \"purchased\"].sum()\n",
    "plt.bar(regionwise_sales[\"Year_Birth\"], regionwise_sales[\"purchased\"])\n",
    "plt.title(\"Year Birth against Products and Purchased\")\n",
    "plt.xlabel(\"Year_Birth\")\n",
    "plt.ylabel(\"Products and Purchased\")\n",
    "plt.show()"
   ]
  },
  {
   "cell_type": "markdown",
   "id": "add3b892",
   "metadata": {},
   "source": [
    "## Bar Plot:Education against Purchase considering the Marital status"
   ]
  },
  {
   "cell_type": "code",
   "execution_count": 47,
   "id": "6a1b4fc6",
   "metadata": {},
   "outputs": [
    {
     "data": {
      "text/plain": [
       "<AxesSubplot:xlabel='Education', ylabel='purchased'>"
      ]
     },
     "execution_count": 47,
     "metadata": {},
     "output_type": "execute_result"
    },
    {
     "data": {
      "image/png": "[encoded data removed]",
      "text/plain": [
       "<Figure size 720x720 with 1 Axes>"
      ]
     },
     "metadata": {},
     "output_type": "display_data"
    }
   ],
   "source": [
    "sns.set_theme(style=\"whitegrid\")\n",
    "sns.barplot(x=\"Education\", y=\"purchased\",hue='Marital_Status', data=data , palette=\"Blues_d\")"
   ]
  },
  {
   "cell_type": "markdown",
   "id": "623c6b29",
   "metadata": {},
   "source": [
    "## Bar Plot:Country against Purchase considering the Marital status"
   ]
  },
  {
   "cell_type": "code",
   "execution_count": 48,
   "id": "43ccff46",
   "metadata": {},
   "outputs": [
    {
     "data": {
      "text/plain": [
       "<AxesSubplot:xlabel='Country', ylabel='purchased'>"
      ]
     },
     "execution_count": 48,
     "metadata": {},
     "output_type": "execute_result"
    },
    {
     "data": {
      "image/png": "[encoded data removed]",
      "text/plain": [
       "<Figure size 720x720 with 1 Axes>"
      ]
     },
     "metadata": {},
     "output_type": "display_data"
    }
   ],
   "source": [
    "sns.set_theme(style=\"whitegrid\")\n",
    "sns.barplot(x=\"Country\", y=\"purchased\",hue='Marital_Status', data=data , palette=\"Blues_d\")"
   ]
  },
  {
   "cell_type": "code",
   "execution_count": 49,
   "id": "ba7a17e1",
   "metadata": {},
   "outputs": [
    {
     "data": {
      "text/plain": [
       "0    1903\n",
       "1     334\n",
       "Name: Response, dtype: int64"
      ]
     },
     "execution_count": 49,
     "metadata": {},
     "output_type": "execute_result"
    }
   ],
   "source": [
    "data.Response.value_counts()"
   ]
  },
  {
   "cell_type": "markdown",
   "id": "27ff5369",
   "metadata": {},
   "source": [
    "## Bar Plot:Response against Income considering the Marital status"
   ]
  },
  {
   "cell_type": "code",
   "execution_count": 50,
   "id": "396da510",
   "metadata": {},
   "outputs": [
    {
     "data": {
      "text/plain": [
       "<AxesSubplot:xlabel='Response', ylabel='Income'>"
      ]
     },
     "execution_count": 50,
     "metadata": {},
     "output_type": "execute_result"
    },
    {
     "data": {
      "image/png": "[encoded data removed]",
      "text/plain": [
       "<Figure size 720x720 with 1 Axes>"
      ]
     },
     "metadata": {},
     "output_type": "display_data"
    }
   ],
   "source": [
    "sns.set_theme(style=\"whitegrid\")\n",
    "sns.barplot(x=\"Response\", y=\"Income\", hue='Marital_Status',data=data)"
   ]
  },
  {
   "cell_type": "markdown",
   "id": "1a915c98",
   "metadata": {},
   "source": [
    "## Bar Plot: Response against Products considering the Country"
   ]
  },
  {
   "cell_type": "code",
   "execution_count": 52,
   "id": "732ac952",
   "metadata": {},
   "outputs": [
    {
     "data": {
      "text/plain": [
       "<AxesSubplot:xlabel='Response', ylabel='products'>"
      ]
     },
     "execution_count": 52,
     "metadata": {},
     "output_type": "execute_result"
    },
    {
     "data": {
      "image/png": "[encoded data removed]",
      "text/plain": [
       "<Figure size 720x720 with 1 Axes>"
      ]
     },
     "metadata": {},
     "output_type": "display_data"
    }
   ],
   "source": [
    "sns.set_theme(style=\"whitegrid\")\n",
    "sns.barplot(x=\"Response\", y=\"products\", hue='Country',data=data)"
   ]
  },
  {
   "cell_type": "markdown",
   "id": "291f8b4d",
   "metadata": {},
   "source": [
    "## Factors related to the number of store purchases"
   ]
  },
  {
   "cell_type": "code",
   "execution_count": 53,
   "id": "beced364",
   "metadata": {
    "scrolled": true
   },
   "outputs": [
    {
     "name": "stderr",
     "output_type": "stream",
     "text": [
      "C:\\Users\\Simran\\anaconda3\\lib\\site-packages\\seaborn\\distributions.py:2619: FutureWarning: `distplot` is a deprecated function and will be removed in a future version. Please adapt your code to use either `displot` (a figure-level function with similar flexibility) or `histplot` (an axes-level function for histograms).\n",
      "  warnings.warn(msg, FutureWarning)\n"
     ]
    },
    {
     "data": {
      "image/png": "[encoded data removed]",
      "text/plain": [
       "<Figure size 576x216 with 1 Axes>"
      ]
     },
     "metadata": {},
     "output_type": "display_data"
    }
   ],
   "source": [
    "plt.figure(figsize=(8,3))\n",
    "sns.distplot(df['NumStorePurchases'], kde=False, hist=True, bins=12, color=\"Red\")\n",
    "plt.title('NumStorePurchases distribution', size=16)\n",
    "plt.ylabel('count');"
   ]
  },
  {
   "cell_type": "markdown",
   "id": "a9f11d7d",
   "metadata": {},
   "source": [
    "## Factors related to the number ofWeb purchases"
   ]
  },
  {
   "cell_type": "code",
   "execution_count": 54,
   "id": "f95b568c",
   "metadata": {},
   "outputs": [
    {
     "data": {
      "image/png": "[encoded data removed]",
      "text/plain": [
       "<Figure size 576x216 with 1 Axes>"
      ]
     },
     "metadata": {},
     "output_type": "display_data"
    }
   ],
   "source": [
    "plt.figure(figsize=(8,3))\n",
    "sns.distplot(df['NumWebPurchases'], kde=False, hist=True, bins=12, color=\"Blue\")\n",
    "plt.title('NumWebPurchases distribution', size=16)\n",
    "plt.ylabel('count');"
   ]
  },
  {
   "cell_type": "markdown",
   "id": "84a2608d",
   "metadata": {},
   "source": [
    "## Visualize NumWebPurchases vs NumWebVisitsMonth"
   ]
  },
  {
   "cell_type": "code",
   "execution_count": 56,
   "id": "df9a48e6",
   "metadata": {},
   "outputs": [
    {
     "name": "stderr",
     "output_type": "stream",
     "text": [
      "*c* argument looks like a single numeric RGB or RGBA sequence, which should be avoided as value-mapping will have precedence in case its length matches with *x* & *y*.  Please use the *color* keyword-argument or provide a 2D array with a single row if you intend to specify the same RGB or RGBA value for all points.\n"
     ]
    },
    {
     "data": {
      "image/png": "[encoded data removed]",
      "text/plain": [
       "<Figure size 720x720 with 1 Axes>"
      ]
     },
     "metadata": {},
     "output_type": "display_data"
    }
   ],
   "source": [
    "df.plot(x='NumWebPurchases', y='NumWebVisitsMonth', kind='scatter')\n",
    "plt.title(\"NumWebPurchases vs NumWebVisitsMonth\");"
   ]
  },
  {
   "cell_type": "markdown",
   "id": "32eb2fd7",
   "metadata": {},
   "source": [
    "## Visualize MntGoldProds vs NumStorePurchases"
   ]
  },
  {
   "cell_type": "code",
   "execution_count": 57,
   "id": "04841411",
   "metadata": {},
   "outputs": [
    {
     "name": "stderr",
     "output_type": "stream",
     "text": [
      "*c* argument looks like a single numeric RGB or RGBA sequence, which should be avoided as value-mapping will have precedence in case its length matches with *x* & *y*.  Please use the *color* keyword-argument or provide a 2D array with a single row if you intend to specify the same RGB or RGBA value for all points.\n"
     ]
    },
    {
     "data": {
      "image/png": "[encoded data removed]",
      "text/plain": [
       "<Figure size 720x720 with 1 Axes>"
      ]
     },
     "metadata": {},
     "output_type": "display_data"
    }
   ],
   "source": [
    "df.plot(x='MntGoldProds', y='NumStorePurchases', kind='scatter')\n",
    "plt.title(\"MntGoldProds vs NumStorePurchases\");\n",
    "plt.savefig('MntGoldProds vs NumStorePurchases.png', bbox_inches='tight')"
   ]
  },
  {
   "cell_type": "markdown",
   "id": "aba1e67a",
   "metadata": {},
   "source": [
    "## Which marketing campaign is most successful?\n",
    "### The last marketing campaign is most successful."
   ]
  },
  {
   "cell_type": "code",
   "execution_count": 58,
   "id": "0462bf8b",
   "metadata": {},
   "outputs": [
    {
     "data": {
      "image/png": "[encoded data removed]",
      "text/plain": [
       "<Figure size 720x720 with 1 Axes>"
      ]
     },
     "metadata": {},
     "output_type": "display_data"
    },
    {
     "data": {
      "text/plain": [
       "<Figure size 640x480 with 0 Axes>"
      ]
     },
     "metadata": {},
     "output_type": "display_data"
    }
   ],
   "source": [
    "df[[\"AcceptedCmp1\", \"AcceptedCmp2\",\"AcceptedCmp3\",\"AcceptedCmp4\",\"AcceptedCmp5\",\"Response\"]].sum().sort_values().plot.barh()\n",
    "plt.title(\"Which marketing campaign is most successful?\")\n",
    "plt.xlabel(\"Offer Accepted\");\n",
    "plt.ylabel(\"Campaign\")\n",
    "from matplotlib.pyplot import figure\n",
    "figure(figsize=(8, 6), dpi=80)\n",
    "plt.savefig('Which marketing campaign is most successful.png', bbox_inches='tight')"
   ]
  },
  {
   "cell_type": "markdown",
   "id": "c6b14a10",
   "metadata": {},
   "source": [
    "## Which marketing channels are underperforming?\n",
    "### Catalog is the most underperforming channel."
   ]
  },
  {
   "cell_type": "code",
   "execution_count": 59,
   "id": "b066c470",
   "metadata": {},
   "outputs": [
    {
     "data": {
      "text/plain": [
       "<Figure size 300x200 with 0 Axes>"
      ]
     },
     "execution_count": 59,
     "metadata": {},
     "output_type": "execute_result"
    },
    {
     "data": {
      "image/png": "[encoded data removed]",
      "text/plain": [
       "<Figure size 720x720 with 1 Axes>"
      ]
     },
     "metadata": {},
     "output_type": "display_data"
    },
    {
     "data": {
      "text/plain": [
       "<Figure size 300x200 with 0 Axes>"
      ]
     },
     "metadata": {},
     "output_type": "display_data"
    }
   ],
   "source": [
    "df[[\"NumWebPurchases\", \"NumCatalogPurchases\", \"NumStorePurchases\"]].sum().sort_values().plot.barh()\n",
    "plt.title(\"Which marketing channels are underperforming?\")\n",
    "plt.xlabel(\"Total number of purchases\")\n",
    "plt.ylabel(\"Channel\")\n",
    "from matplotlib.pyplot import figure\n",
    "\n",
    "figure(figsize=(6, 4), dpi=50)\n",
    "#Now that we know the last campaign is the most successful one, \n",
    "#we can further investigate the differences in the customer characteristics and purchases behaviors(listed below) between the most succesful campaing, the last one, and the rest of the campaigns"
   ]
  },
  {
   "cell_type": "code",
   "execution_count": null,
   "id": "9787d0f5",
   "metadata": {},
   "outputs": [],
   "source": []
  },
  {
   "cell_type": "code",
   "execution_count": 54,
   "id": "c4845f89",
   "metadata": {},
   "outputs": [],
   "source": [
    "X = df.drop(['ID','Dt_Customer'],axis=1)\n"
   ]
  },
  {
   "cell_type": "code",
   "execution_count": 55,
   "id": "c7681507",
   "metadata": {},
   "outputs": [
    {
     "data": {
      "text/plain": [
       "(2240, 46)"
      ]
     },
     "execution_count": 55,
     "metadata": {},
     "output_type": "execute_result"
    }
   ],
   "source": [
    "data1 = pd.get_dummies(X) \n",
    "data1.shape\n"
   ]
  },
  {
   "cell_type": "markdown",
   "id": "df9f5ec4",
   "metadata": {},
   "source": [
    "## Spliting Independant and Dependant Variable\n"
   ]
  },
  {
   "cell_type": "code",
   "execution_count": 58,
   "id": "559da3fd",
   "metadata": {},
   "outputs": [],
   "source": [
    "X=data1.drop(columns=['NumStorePurchases'])\n",
    "y=data1['NumStorePurchases']\n",
    "\n"
   ]
  },
  {
   "cell_type": "code",
   "execution_count": 59,
   "id": "12bd4032",
   "metadata": {},
   "outputs": [
    {
     "data": {
      "text/html": [
       "<div>\n",
       "<style scoped>\n",
       "    .dataframe tbody tr th:only-of-type {\n",
       "        vertical-align: middle;\n",
       "    }\n",
       "\n",
       "    .dataframe tbody tr th {\n",
       "        vertical-align: top;\n",
       "    }\n",
       "\n",
       "    .dataframe thead th {\n",
       "        text-align: right;\n",
       "    }\n",
       "</style>\n",
       "<table border=\"1\" class=\"dataframe\">\n",
       "  <thead>\n",
       "    <tr style=\"text-align: right;\">\n",
       "      <th></th>\n",
       "      <th>Year_Birth</th>\n",
       "      <th>Income</th>\n",
       "      <th>Kidhome</th>\n",
       "      <th>Teenhome</th>\n",
       "      <th>Recency</th>\n",
       "      <th>MntWines</th>\n",
       "      <th>MntFruits</th>\n",
       "      <th>MntMeatProducts</th>\n",
       "      <th>MntFishProducts</th>\n",
       "      <th>MntSweetProducts</th>\n",
       "      <th>...</th>\n",
       "      <th>Marital_Status_Widow</th>\n",
       "      <th>Marital_Status_YOLO</th>\n",
       "      <th>Country_AUS</th>\n",
       "      <th>Country_CA</th>\n",
       "      <th>Country_GER</th>\n",
       "      <th>Country_IND</th>\n",
       "      <th>Country_ME</th>\n",
       "      <th>Country_SA</th>\n",
       "      <th>Country_SP</th>\n",
       "      <th>Country_US</th>\n",
       "    </tr>\n",
       "  </thead>\n",
       "  <tbody>\n",
       "    <tr>\n",
       "      <th>0</th>\n",
       "      <td>1970</td>\n",
       "      <td>84835.0</td>\n",
       "      <td>0</td>\n",
       "      <td>0</td>\n",
       "      <td>0</td>\n",
       "      <td>189</td>\n",
       "      <td>104</td>\n",
       "      <td>379</td>\n",
       "      <td>111</td>\n",
       "      <td>189</td>\n",
       "      <td>...</td>\n",
       "      <td>0</td>\n",
       "      <td>0</td>\n",
       "      <td>0</td>\n",
       "      <td>0</td>\n",
       "      <td>0</td>\n",
       "      <td>0</td>\n",
       "      <td>0</td>\n",
       "      <td>0</td>\n",
       "      <td>1</td>\n",
       "      <td>0</td>\n",
       "    </tr>\n",
       "    <tr>\n",
       "      <th>1</th>\n",
       "      <td>1961</td>\n",
       "      <td>57091.0</td>\n",
       "      <td>0</td>\n",
       "      <td>0</td>\n",
       "      <td>0</td>\n",
       "      <td>464</td>\n",
       "      <td>5</td>\n",
       "      <td>64</td>\n",
       "      <td>7</td>\n",
       "      <td>0</td>\n",
       "      <td>...</td>\n",
       "      <td>0</td>\n",
       "      <td>0</td>\n",
       "      <td>0</td>\n",
       "      <td>1</td>\n",
       "      <td>0</td>\n",
       "      <td>0</td>\n",
       "      <td>0</td>\n",
       "      <td>0</td>\n",
       "      <td>0</td>\n",
       "      <td>0</td>\n",
       "    </tr>\n",
       "    <tr>\n",
       "      <th>2</th>\n",
       "      <td>1958</td>\n",
       "      <td>67267.0</td>\n",
       "      <td>0</td>\n",
       "      <td>1</td>\n",
       "      <td>0</td>\n",
       "      <td>134</td>\n",
       "      <td>11</td>\n",
       "      <td>59</td>\n",
       "      <td>15</td>\n",
       "      <td>2</td>\n",
       "      <td>...</td>\n",
       "      <td>0</td>\n",
       "      <td>0</td>\n",
       "      <td>0</td>\n",
       "      <td>0</td>\n",
       "      <td>0</td>\n",
       "      <td>0</td>\n",
       "      <td>0</td>\n",
       "      <td>0</td>\n",
       "      <td>0</td>\n",
       "      <td>1</td>\n",
       "    </tr>\n",
       "    <tr>\n",
       "      <th>3</th>\n",
       "      <td>1967</td>\n",
       "      <td>32474.0</td>\n",
       "      <td>1</td>\n",
       "      <td>1</td>\n",
       "      <td>0</td>\n",
       "      <td>10</td>\n",
       "      <td>0</td>\n",
       "      <td>1</td>\n",
       "      <td>0</td>\n",
       "      <td>0</td>\n",
       "      <td>...</td>\n",
       "      <td>0</td>\n",
       "      <td>0</td>\n",
       "      <td>1</td>\n",
       "      <td>0</td>\n",
       "      <td>0</td>\n",
       "      <td>0</td>\n",
       "      <td>0</td>\n",
       "      <td>0</td>\n",
       "      <td>0</td>\n",
       "      <td>0</td>\n",
       "    </tr>\n",
       "    <tr>\n",
       "      <th>4</th>\n",
       "      <td>1989</td>\n",
       "      <td>21474.0</td>\n",
       "      <td>1</td>\n",
       "      <td>0</td>\n",
       "      <td>0</td>\n",
       "      <td>6</td>\n",
       "      <td>16</td>\n",
       "      <td>24</td>\n",
       "      <td>11</td>\n",
       "      <td>0</td>\n",
       "      <td>...</td>\n",
       "      <td>0</td>\n",
       "      <td>0</td>\n",
       "      <td>0</td>\n",
       "      <td>0</td>\n",
       "      <td>0</td>\n",
       "      <td>0</td>\n",
       "      <td>0</td>\n",
       "      <td>0</td>\n",
       "      <td>1</td>\n",
       "      <td>0</td>\n",
       "    </tr>\n",
       "    <tr>\n",
       "      <th>...</th>\n",
       "      <td>...</td>\n",
       "      <td>...</td>\n",
       "      <td>...</td>\n",
       "      <td>...</td>\n",
       "      <td>...</td>\n",
       "      <td>...</td>\n",
       "      <td>...</td>\n",
       "      <td>...</td>\n",
       "      <td>...</td>\n",
       "      <td>...</td>\n",
       "      <td>...</td>\n",
       "      <td>...</td>\n",
       "      <td>...</td>\n",
       "      <td>...</td>\n",
       "      <td>...</td>\n",
       "      <td>...</td>\n",
       "      <td>...</td>\n",
       "      <td>...</td>\n",
       "      <td>...</td>\n",
       "      <td>...</td>\n",
       "      <td>...</td>\n",
       "    </tr>\n",
       "    <tr>\n",
       "      <th>2235</th>\n",
       "      <td>1976</td>\n",
       "      <td>66476.0</td>\n",
       "      <td>0</td>\n",
       "      <td>1</td>\n",
       "      <td>99</td>\n",
       "      <td>372</td>\n",
       "      <td>18</td>\n",
       "      <td>126</td>\n",
       "      <td>47</td>\n",
       "      <td>48</td>\n",
       "      <td>...</td>\n",
       "      <td>0</td>\n",
       "      <td>0</td>\n",
       "      <td>0</td>\n",
       "      <td>0</td>\n",
       "      <td>0</td>\n",
       "      <td>0</td>\n",
       "      <td>0</td>\n",
       "      <td>0</td>\n",
       "      <td>0</td>\n",
       "      <td>1</td>\n",
       "    </tr>\n",
       "    <tr>\n",
       "      <th>2236</th>\n",
       "      <td>1977</td>\n",
       "      <td>31056.0</td>\n",
       "      <td>1</td>\n",
       "      <td>0</td>\n",
       "      <td>99</td>\n",
       "      <td>5</td>\n",
       "      <td>10</td>\n",
       "      <td>13</td>\n",
       "      <td>3</td>\n",
       "      <td>8</td>\n",
       "      <td>...</td>\n",
       "      <td>0</td>\n",
       "      <td>0</td>\n",
       "      <td>0</td>\n",
       "      <td>0</td>\n",
       "      <td>0</td>\n",
       "      <td>0</td>\n",
       "      <td>0</td>\n",
       "      <td>0</td>\n",
       "      <td>1</td>\n",
       "      <td>0</td>\n",
       "    </tr>\n",
       "    <tr>\n",
       "      <th>2237</th>\n",
       "      <td>1976</td>\n",
       "      <td>46310.0</td>\n",
       "      <td>1</td>\n",
       "      <td>0</td>\n",
       "      <td>99</td>\n",
       "      <td>185</td>\n",
       "      <td>2</td>\n",
       "      <td>88</td>\n",
       "      <td>15</td>\n",
       "      <td>5</td>\n",
       "      <td>...</td>\n",
       "      <td>0</td>\n",
       "      <td>0</td>\n",
       "      <td>0</td>\n",
       "      <td>0</td>\n",
       "      <td>0</td>\n",
       "      <td>0</td>\n",
       "      <td>0</td>\n",
       "      <td>0</td>\n",
       "      <td>1</td>\n",
       "      <td>0</td>\n",
       "    </tr>\n",
       "    <tr>\n",
       "      <th>2238</th>\n",
       "      <td>1978</td>\n",
       "      <td>65819.0</td>\n",
       "      <td>0</td>\n",
       "      <td>0</td>\n",
       "      <td>99</td>\n",
       "      <td>267</td>\n",
       "      <td>38</td>\n",
       "      <td>701</td>\n",
       "      <td>149</td>\n",
       "      <td>165</td>\n",
       "      <td>...</td>\n",
       "      <td>0</td>\n",
       "      <td>0</td>\n",
       "      <td>0</td>\n",
       "      <td>0</td>\n",
       "      <td>0</td>\n",
       "      <td>1</td>\n",
       "      <td>0</td>\n",
       "      <td>0</td>\n",
       "      <td>0</td>\n",
       "      <td>0</td>\n",
       "    </tr>\n",
       "    <tr>\n",
       "      <th>2239</th>\n",
       "      <td>1969</td>\n",
       "      <td>94871.0</td>\n",
       "      <td>0</td>\n",
       "      <td>2</td>\n",
       "      <td>99</td>\n",
       "      <td>169</td>\n",
       "      <td>24</td>\n",
       "      <td>553</td>\n",
       "      <td>188</td>\n",
       "      <td>0</td>\n",
       "      <td>...</td>\n",
       "      <td>0</td>\n",
       "      <td>0</td>\n",
       "      <td>0</td>\n",
       "      <td>1</td>\n",
       "      <td>0</td>\n",
       "      <td>0</td>\n",
       "      <td>0</td>\n",
       "      <td>0</td>\n",
       "      <td>0</td>\n",
       "      <td>0</td>\n",
       "    </tr>\n",
       "  </tbody>\n",
       "</table>\n",
       "<p>2240 rows × 45 columns</p>\n",
       "</div>"
      ],
      "text/plain": [
       "      Year_Birth   Income  Kidhome  Teenhome  Recency  MntWines  MntFruits  \\\n",
       "0           1970  84835.0        0         0        0       189        104   \n",
       "1           1961  57091.0        0         0        0       464          5   \n",
       "2           1958  67267.0        0         1        0       134         11   \n",
       "3           1967  32474.0        1         1        0        10          0   \n",
       "4           1989  21474.0        1         0        0         6         16   \n",
       "...          ...      ...      ...       ...      ...       ...        ...   \n",
       "2235        1976  66476.0        0         1       99       372         18   \n",
       "2236        1977  31056.0        1         0       99         5         10   \n",
       "2237        1976  46310.0        1         0       99       185          2   \n",
       "2238        1978  65819.0        0         0       99       267         38   \n",
       "2239        1969  94871.0        0         2       99       169         24   \n",
       "\n",
       "      MntMeatProducts  MntFishProducts  MntSweetProducts  ...  \\\n",
       "0                 379              111               189  ...   \n",
       "1                  64                7                 0  ...   \n",
       "2                  59               15                 2  ...   \n",
       "3                   1                0                 0  ...   \n",
       "4                  24               11                 0  ...   \n",
       "...               ...              ...               ...  ...   \n",
       "2235              126               47                48  ...   \n",
       "2236               13                3                 8  ...   \n",
       "2237               88               15                 5  ...   \n",
       "2238              701              149               165  ...   \n",
       "2239              553              188                 0  ...   \n",
       "\n",
       "      Marital_Status_Widow  Marital_Status_YOLO  Country_AUS  Country_CA  \\\n",
       "0                        0                    0            0           0   \n",
       "1                        0                    0            0           1   \n",
       "2                        0                    0            0           0   \n",
       "3                        0                    0            1           0   \n",
       "4                        0                    0            0           0   \n",
       "...                    ...                  ...          ...         ...   \n",
       "2235                     0                    0            0           0   \n",
       "2236                     0                    0            0           0   \n",
       "2237                     0                    0            0           0   \n",
       "2238                     0                    0            0           0   \n",
       "2239                     0                    0            0           1   \n",
       "\n",
       "      Country_GER  Country_IND  Country_ME  Country_SA  Country_SP  Country_US  \n",
       "0               0            0           0           0           1           0  \n",
       "1               0            0           0           0           0           0  \n",
       "2               0            0           0           0           0           1  \n",
       "3               0            0           0           0           0           0  \n",
       "4               0            0           0           0           1           0  \n",
       "...           ...          ...         ...         ...         ...         ...  \n",
       "2235            0            0           0           0           0           1  \n",
       "2236            0            0           0           0           1           0  \n",
       "2237            0            0           0           0           1           0  \n",
       "2238            0            1           0           0           0           0  \n",
       "2239            0            0           0           0           0           0  \n",
       "\n",
       "[2240 rows x 45 columns]"
      ]
     },
     "execution_count": 59,
     "metadata": {},
     "output_type": "execute_result"
    }
   ],
   "source": [
    "X"
   ]
  },
  {
   "cell_type": "code",
   "execution_count": 60,
   "id": "94f1cc30",
   "metadata": {},
   "outputs": [
    {
     "data": {
      "text/plain": [
       "0        6\n",
       "1        7\n",
       "2        5\n",
       "3        2\n",
       "4        2\n",
       "        ..\n",
       "2235    11\n",
       "2236     3\n",
       "2237     5\n",
       "2238    10\n",
       "2239     4\n",
       "Name: NumStorePurchases, Length: 2240, dtype: int64"
      ]
     },
     "execution_count": 60,
     "metadata": {},
     "output_type": "execute_result"
    }
   ],
   "source": [
    "y"
   ]
  },
  {
   "cell_type": "markdown",
   "id": "87c3854f",
   "metadata": {},
   "source": [
    "## Spliting Data in train and test"
   ]
  },
  {
   "cell_type": "code",
   "execution_count": 61,
   "id": "c334ce40",
   "metadata": {},
   "outputs": [],
   "source": [
    "from sklearn.model_selection import train_test_split\n",
    "X_train, X_test, y_train, y_test = train_test_split(X, y, test_size=0.3 , random_state=7)\n"
   ]
  },
  {
   "cell_type": "markdown",
   "id": "1a59cb6f",
   "metadata": {},
   "source": [
    "## Use RandomeForest Modeling"
   ]
  },
  {
   "cell_type": "code",
   "execution_count": null,
   "id": "a02a1de7",
   "metadata": {},
   "outputs": [],
   "source": [
    "from sklearn.ensemble import RandomForestRegressor\n",
    "rg = RandomForestRegressor(n_estimators=100, n_jobs=-1)\n",
    "rg.fit(X_train, y_train)\n"
   ]
  },
  {
   "cell_type": "code",
   "execution_count": 63,
   "id": "8ff60a11",
   "metadata": {},
   "outputs": [],
   "source": [
    "y_pred=rg.predict(X_test)\n"
   ]
  },
  {
   "cell_type": "markdown",
   "id": "e26ff58d",
   "metadata": {},
   "source": [
    "## Use Metrics for calculating accuracy"
   ]
  },
  {
   "cell_type": "code",
   "execution_count": 66,
   "id": "2dcb6204",
   "metadata": {},
   "outputs": [
    {
     "name": "stdout",
     "output_type": "stream",
     "text": [
      "Mean Absolute Error: 0.6270684523809523\n",
      "Mean Squared Error: 0.9732736607142857\n",
      "Root Mean Squared Error: 0.9865463297353478\n"
     ]
    }
   ],
   "source": [
    "from sklearn import metrics\n",
    "print('Mean Absolute Error:', metrics.mean_absolute_error(y_test, y_pred))\n",
    "print('Mean Squared Error:', metrics.mean_squared_error(y_test, y_pred))\n",
    "print('Root Mean Squared Error:', np.sqrt(metrics.mean_squared_error(y_test, y_pred)))\n"
   ]
  },
  {
   "cell_type": "markdown",
   "id": "7db84256",
   "metadata": {},
   "source": [
    "# Conclusion:"
   ]
  },
  {
   "cell_type": "markdown",
   "id": "7713b3c7",
   "metadata": {},
   "source": [
    "#### We have cleaned the data by removing the unnecessary information. Following that, we have visualized the data by removing the outliers and plotting the required graphs.\n",
    "####  Random forest model is also build to find the accuracy of overall dataset.\n",
    "### By doing so we conclude that:\n",
    "##### --The Best performing channels as Stores.\n",
    "##### --The Best performing product of the company as Wine followed by Meat.\n",
    "##### --Worst performing channels: Advertising campaigns indicating that campaigns are not working.\n",
    "##### --The last campaign is the most successful campaign and the second campaign is the least successful campaign.\n",
    "##### --98% of the customers have never complained in the last two years.\n"
   ]
  },
  {
   "cell_type": "code",
   "execution_count": null,
   "id": "53eb9cf4",
   "metadata": {},
   "outputs": [],
   "source": []
  },
  {
   "cell_type": "code",
   "execution_count": null,
   "id": "59e5daec",
   "metadata": {},
   "outputs": [],
   "source": []
  }
 ],
 "metadata": {
  "kernelspec": {
   "display_name": "Python 3 (ipykernel)",
   "language": "python",
   "name": "python3"
  },
  "language_info": {
   "codemirror_mode": {
    "name": "ipython",
    "version": 3
   },
   "file_extension": ".py",
   "mimetype": "text/x-python",
   "name": "python",
   "nbconvert_exporter": "python",
   "pygments_lexer": "ipython3",
   "version": "3.9.7"
  },
  "vscode": {
   "interpreter": {
    "hash": "57438ae1936dfe4fae98ea978e1f45869133d5ece15c98e0c0b566dca7a890c1"
   }
  }
 },
 "nbformat": 4,
 "nbformat_minor": 5
}
